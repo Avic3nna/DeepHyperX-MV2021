{
 "cells": [
  {
   "cell_type": "markdown",
   "metadata": {},
   "source": [
    "# Concat HSI and GT"
   ]
  },
  {
   "cell_type": "code",
   "execution_count": 1,
   "metadata": {},
   "outputs": [],
   "source": [
    "#https://colab.research.google.com/drive/1Lstx55MxHT8bpXlgnaXYloVCmagE_xC7?usp=sharing#scrollTo=-T6nwPzcIone\n",
    "\n",
    "#getting the data from 1 pixel in a single image\n",
    "import numpy as np\n",
    "import spectral\n",
    "from PIL import Image\n",
    "import matplotlib.pyplot as plt\n",
    "\n",
    "hs_data1 = spectral.open_image('Datasets/WATER_HSI/REFLECTANCE_2021-09-12_039.hdr')\n",
    "\n",
    "hs_data2 = spectral.open_image('Datasets/WATER_HSI/REFLECTANCE_2021-09-12_003.hdr')\n",
    "\n",
    "gt1 = Image.open('Datasets/WATER_HSI/LabeledImg/label35.png')\n",
    "gt2 = Image.open('Datasets/WATER_HSI/LabeledImg/label2.png')"
   ]
  },
  {
   "cell_type": "code",
   "execution_count": 2,
   "metadata": {},
   "outputs": [],
   "source": [
    "arr1 = np.array(hs_data1.load())\n",
    "arr2 = np.array(hs_data2.load())\n"
   ]
  },
  {
   "cell_type": "code",
   "execution_count": 4,
   "metadata": {},
   "outputs": [
    {
     "data": {
      "text/plain": [
       "(512, 512, 204)"
      ]
     },
     "execution_count": 4,
     "metadata": {},
     "output_type": "execute_result"
    }
   ],
   "source": [
    "arr1.shape"
   ]
  },
  {
   "cell_type": "code",
   "execution_count": 5,
   "metadata": {},
   "outputs": [
    {
     "data": {
      "text/plain": [
       "(512, 1024, 204)"
      ]
     },
     "execution_count": 5,
     "metadata": {},
     "output_type": "execute_result"
    }
   ],
   "source": [
    "arr_mix = np.concatenate((arr1, arr2), axis = 1)\n",
    "\n",
    "arr_mix.shape"
   ]
  },
  {
   "cell_type": "code",
   "execution_count": 7,
   "metadata": {},
   "outputs": [
    {
     "data": {
      "text/plain": [
       "(512, 1024, 3)"
      ]
     },
     "execution_count": 7,
     "metadata": {},
     "output_type": "execute_result"
    }
   ],
   "source": [
    "gt1_array = np.asarray(gt1)\n",
    "gt2_array = np.asarray(gt2)\n",
    "\n",
    "gt_mix = np.concatenate((gt1_array, gt2_array), axis = 1)\n",
    "gt_mix.shape"
   ]
  },
  {
   "cell_type": "code",
   "execution_count": 10,
   "metadata": {},
   "outputs": [
    {
     "data": {
      "text/plain": [
       "<matplotlib.image.AxesImage at 0x24d9bede370>"
      ]
     },
     "execution_count": 10,
     "metadata": {},
     "output_type": "execute_result"
    },
    {
     "data": {
      "image/png": "[encoded data removed]",
      "text/plain": [
       "<Figure size 432x288 with 1 Axes>"
      ]
     },
     "metadata": {
      "needs_background": "light"
     },
     "output_type": "display_data"
    }
   ],
   "source": [
    "import matplotlib.pyplot as plt\n",
    "\n",
    "plt.imshow(gt_mix)"
   ]
  },
  {
   "cell_type": "markdown",
   "metadata": {},
   "source": [
    "# Scaleable"
   ]
  },
  {
   "cell_type": "markdown",
   "metadata": {},
   "source": [
    "## Shuffle img"
   ]
  },
  {
   "cell_type": "code",
   "execution_count": 1,
   "metadata": {},
   "outputs": [
    {
     "name": "stdout",
     "output_type": "stream",
     "text": [
      "['Datasets/LabeledImg\\\\label003.png', 'Datasets/LabeledImg\\\\label005.png', 'Datasets/LabeledImg\\\\label006.png', 'Datasets/LabeledImg\\\\label007.png']\n",
      "['Datasets/WATER_HSI\\\\REFLECTANCE_2021-09-12_003.hdr', 'Datasets/WATER_HSI\\\\REFLECTANCE_2021-09-12_005.hdr', 'Datasets/WATER_HSI\\\\REFLECTANCE_2021-09-12_006.hdr', 'Datasets/WATER_HSI\\\\REFLECTANCE_2021-09-12_007.hdr']\n",
      "['Datasets/LabeledImg\\\\label039.png', 'Datasets/LabeledImg\\\\label028.png', 'Datasets/LabeledImg\\\\label015.png', 'Datasets/LabeledImg\\\\label026.png']\n",
      "['Datasets/WATER_HSI\\\\REFLECTANCE_2021-09-12_039.hdr', 'Datasets/WATER_HSI\\\\REFLECTANCE_2021-09-12_028.hdr', 'Datasets/WATER_HSI\\\\REFLECTANCE_2021-09-12_015.hdr', 'Datasets/WATER_HSI\\\\REFLECTANCE_2021-09-12_026.hdr']\n"
     ]
    }
   ],
   "source": [
    "import random\n",
    "import os\n",
    "import glob\n",
    "\n",
    "\n",
    "label_folder = 'Datasets/LabeledImg/*.png'\n",
    "hsi_folder = 'Datasets/WATER_HSI/*.hdr'\n",
    "\n",
    "labels = glob.glob(label_folder)\n",
    "train = glob.glob(hsi_folder)\n",
    "print(labels[0:4])\n",
    "print(train[0:4])\n",
    "\n",
    "labels = random.Random(1337).sample(labels, len(labels))\n",
    "train = random.Random(1337).sample(train, len(train))\n",
    "\n",
    "print(labels[0:4])\n",
    "print(train[0:4])"
   ]
  },
  {
   "cell_type": "markdown",
   "metadata": {},
   "source": [
    "## HSI"
   ]
  },
  {
   "cell_type": "code",
   "execution_count": 2,
   "metadata": {},
   "outputs": [
    {
     "name": "stdout",
     "output_type": "stream",
     "text": [
      "Datasets/WATER_HSI\\REFLECTANCE_2021-09-12_039.hdr\n",
      "(512, 512, 204)\n",
      "Datasets/WATER_HSI\\REFLECTANCE_2021-09-12_028.hdr\n",
      "(512, 1024, 204)\n",
      "Datasets/WATER_HSI\\REFLECTANCE_2021-09-12_015.hdr\n",
      "(512, 1536, 204)\n",
      "Datasets/WATER_HSI\\REFLECTANCE_2021-09-12_026.hdr\n",
      "(512, 2048, 204)\n",
      "Datasets/WATER_HSI\\REFLECTANCE_2021-09-12_017.hdr\n",
      "(512, 2560, 204)\n",
      "Datasets/WATER_HSI\\REFLECTANCE_2021-09-12_025.hdr\n",
      "(512, 3072, 204)\n",
      "Datasets/WATER_HSI\\REFLECTANCE_2021-09-12_030.hdr\n",
      "(512, 3584, 204)\n",
      "Datasets/WATER_HSI\\REFLECTANCE_2021-09-12_016.hdr\n",
      "(512, 4096, 204)\n",
      "Datasets/WATER_HSI\\REFLECTANCE_2021-09-12_014.hdr\n",
      "(512, 4608, 204)\n",
      "Datasets/WATER_HSI\\REFLECTANCE_2021-09-12_035.hdr\n",
      "(512, 5120, 204)\n",
      "Datasets/WATER_HSI\\REFLECTANCE_2021-09-12_027.hdr\n",
      "(512, 5632, 204)\n",
      "Datasets/WATER_HSI\\REFLECTANCE_2021-09-12_011.hdr\n",
      "(512, 6144, 204)\n",
      "Datasets/WATER_HSI\\REFLECTANCE_2021-09-12_036.hdr\n",
      "(512, 6656, 204)\n",
      "Datasets/WATER_HSI\\REFLECTANCE_2021-09-12_032.hdr\n",
      "(512, 7168, 204)\n",
      "Datasets/WATER_HSI\\REFLECTANCE_2021-09-12_007.hdr\n",
      "(512, 7680, 204)\n",
      "Datasets/WATER_HSI\\REFLECTANCE_2021-09-12_018.hdr\n",
      "(512, 8192, 204)\n",
      "Datasets/WATER_HSI\\REFLECTANCE_2021-09-12_033.hdr\n",
      "(512, 8704, 204)\n",
      "Datasets/WATER_HSI\\REFLECTANCE_2021-09-12_006.hdr\n",
      "(512, 9216, 204)\n",
      "Datasets/WATER_HSI\\REFLECTANCE_2021-09-12_021.hdr\n",
      "(512, 9728, 204)\n",
      "Datasets/WATER_HSI\\REFLECTANCE_2021-09-12_029.hdr\n",
      "(512, 10240, 204)\n",
      "Datasets/WATER_HSI\\REFLECTANCE_2021-09-12_019.hdr\n",
      "(512, 10752, 204)\n",
      "Datasets/WATER_HSI\\REFLECTANCE_2021-09-12_038.hdr\n",
      "(512, 11264, 204)\n",
      "Datasets/WATER_HSI\\REFLECTANCE_2021-09-12_024.hdr\n",
      "(512, 11776, 204)\n",
      "Datasets/WATER_HSI\\REFLECTANCE_2021-09-12_020.hdr\n",
      "(512, 12288, 204)\n",
      "Datasets/WATER_HSI\\REFLECTANCE_2021-09-12_009.hdr\n",
      "(512, 12800, 204)\n",
      "Datasets/WATER_HSI\\REFLECTANCE_2021-09-12_003.hdr\n",
      "(512, 13312, 204)\n",
      "Datasets/WATER_HSI\\REFLECTANCE_2021-09-12_010.hdr\n",
      "(512, 13824, 204)\n",
      "Datasets/WATER_HSI\\REFLECTANCE_2021-09-12_005.hdr\n",
      "(512, 14336, 204)\n",
      "Datasets/WATER_HSI\\REFLECTANCE_2021-09-12_034.hdr\n",
      "(512, 14848, 204)\n",
      "Datasets/WATER_HSI\\REFLECTANCE_2021-09-12_012.hdr\n",
      "(512, 15360, 204)\n",
      "Datasets/WATER_HSI\\REFLECTANCE_2021-09-12_013.hdr\n",
      "(512, 15872, 204)\n",
      "Datasets/WATER_HSI\\REFLECTANCE_2021-09-12_022.hdr\n",
      "(512, 16384, 204)\n",
      "Datasets/WATER_HSI\\REFLECTANCE_2021-09-12_023.hdr\n",
      "(512, 512, 204)\n",
      "Datasets/WATER_HSI\\REFLECTANCE_2021-09-12_037.hdr\n",
      "(512, 1024, 204)\n",
      "Datasets/WATER_HSI\\REFLECTANCE_2021-09-12_031.hdr\n",
      "(512, 1536, 204)\n"
     ]
    }
   ],
   "source": [
    "import numpy as np\n",
    "import spectral\n",
    "from PIL import Image\n",
    "import matplotlib.pyplot as plt\n",
    "import os\n",
    "\n",
    "hsi_folder = 'Datasets/WATER_HSI/'\n",
    "max_train = 32\n",
    "arr_mix_train = 0\n",
    "arr_mix_test = 0\n",
    "i = 0\n",
    "for file in train:\n",
    "    if file.endswith('.hdr'):\n",
    "        #full_hsi_path = os.path.join(hsi_folder, file)\n",
    "        hs_data = spectral.open_image(file)\n",
    "        arr = np.array(hs_data.load(), dtype= np.float64) #python int too long to convert to c long\n",
    "        print(file)\n",
    "        if i == 0:\n",
    "            arr_mix_train = arr\n",
    "            print(arr_mix_train.shape)\n",
    "        elif i == max_train:\n",
    "            arr_mix_test = arr\n",
    "            print(arr_mix_test.shape) \n",
    "        elif i > max_train:\n",
    "            arr_mix_test = np.concatenate((arr_mix_test, arr), axis = 1)\n",
    "            print(arr_mix_test.shape)              \n",
    "        else:\n",
    "            arr_mix_train = np.concatenate((arr_mix_train, arr), axis = 1) \n",
    "            print(arr_mix_train.shape)   \n",
    "        i += 1\n",
    "        "
   ]
  },
  {
   "cell_type": "code",
   "execution_count": 3,
   "metadata": {},
   "outputs": [
    {
     "name": "stdout",
     "output_type": "stream",
     "text": [
      "(512, 16384, 204)\n",
      "(512, 1536, 204)\n"
     ]
    }
   ],
   "source": [
    "print(arr_mix_train.shape)\n",
    "print(arr_mix_test.shape)"
   ]
  },
  {
   "cell_type": "code",
   "execution_count": 4,
   "metadata": {},
   "outputs": [
    {
     "data": {
      "text/plain": [
       "dtype('float64')"
      ]
     },
     "execution_count": 4,
     "metadata": {},
     "output_type": "execute_result"
    }
   ],
   "source": [
    "arr_mix_train.dtype"
   ]
  },
  {
   "cell_type": "code",
   "execution_count": 34,
   "metadata": {},
   "outputs": [
    {
     "ename": "MemoryError",
     "evalue": "Unable to allocate 12.8 GiB for an array with shape (512, 16384, 204) and data type int64",
     "output_type": "error",
     "traceback": [
      "\u001b[1;31m---------------------------------------------------------------------------\u001b[0m",
      "\u001b[1;31mMemoryError\u001b[0m                               Traceback (most recent call last)",
      "\u001b[1;32m~\\AppData\\Local\\Temp/ipykernel_11324/3272253784.py\u001b[0m in \u001b[0;36m<module>\u001b[1;34m\u001b[0m\n\u001b[0;32m      1\u001b[0m \u001b[1;32mfrom\u001b[0m \u001b[0mscipy\u001b[0m\u001b[1;33m.\u001b[0m\u001b[0mio\u001b[0m \u001b[1;32mimport\u001b[0m \u001b[0msavemat\u001b[0m\u001b[1;33m\u001b[0m\u001b[1;33m\u001b[0m\u001b[0m\n\u001b[0;32m      2\u001b[0m \u001b[1;33m\u001b[0m\u001b[0m\n\u001b[1;32m----> 3\u001b[1;33m \u001b[0marr_mix_train\u001b[0m \u001b[1;33m=\u001b[0m \u001b[0marr_mix_train\u001b[0m\u001b[1;33m.\u001b[0m\u001b[0mastype\u001b[0m\u001b[1;33m(\u001b[0m\u001b[0mnp\u001b[0m\u001b[1;33m.\u001b[0m\u001b[0mint64\u001b[0m\u001b[1;33m)\u001b[0m\u001b[1;33m\u001b[0m\u001b[1;33m\u001b[0m\u001b[0m\n\u001b[0m\u001b[0;32m      4\u001b[0m \u001b[0marr_mix_test\u001b[0m \u001b[1;33m=\u001b[0m \u001b[0marr_mix_test\u001b[0m\u001b[1;33m.\u001b[0m\u001b[0mastype\u001b[0m\u001b[1;33m(\u001b[0m\u001b[0mnp\u001b[0m\u001b[1;33m.\u001b[0m\u001b[0mint64\u001b[0m\u001b[1;33m)\u001b[0m\u001b[1;33m\u001b[0m\u001b[1;33m\u001b[0m\u001b[0m\n",
      "\u001b[1;31mMemoryError\u001b[0m: Unable to allocate 12.8 GiB for an array with shape (512, 16384, 204) and data type int64"
     ]
    }
   ],
   "source": [
    "\n",
    "\n",
    "# arr_mix_train = arr_mix_train.astype(np.int64)\n",
    "# arr_mix_test = arr_mix_test.astype(np.int64)\n"
   ]
  },
  {
   "cell_type": "code",
   "execution_count": 5,
   "metadata": {},
   "outputs": [
    {
     "data": {
      "text/plain": [
       "array([[1.30037487, 1.21012759, 1.15643525, ..., 0.89531678, 0.87976539,\n",
       "        1.09208965],\n",
       "       [1.3272258 , 1.2262342 , 1.16261113, ..., 0.86088151, 0.84310848,\n",
       "        1.10684764],\n",
       "       [1.33603477, 1.24221122, 1.16720116, ..., 0.86088151, 0.91642225,\n",
       "        1.10684764],\n",
       "       ...,\n",
       "       [0.36902529, 0.32894737, 0.30261859, ..., 0.3443526 , 0.36656889,\n",
       "        0.3837072 ],\n",
       "       [0.35823351, 0.32553124, 0.30107459, ..., 0.30991733, 0.32991201,\n",
       "        0.35419124],\n",
       "       [0.34061545, 0.30755711, 0.27482709, ..., 0.27548209, 0.29325512,\n",
       "        0.35419124]])"
      ]
     },
     "execution_count": 5,
     "metadata": {},
     "output_type": "execute_result"
    }
   ],
   "source": [
    "arr_mix_train[1]"
   ]
  },
  {
   "cell_type": "code",
   "execution_count": null,
   "metadata": {},
   "outputs": [],
   "source": [
    "np.save(\"hsi_water_train.npy\", arr_mix_train)\n",
    "np.save(\"hsi_water_test.npy\", arr_mix_test)"
   ]
  },
  {
   "cell_type": "code",
   "execution_count": 6,
   "metadata": {},
   "outputs": [
    {
     "ename": "OverflowError",
     "evalue": "Python int too large to convert to C long",
     "output_type": "error",
     "traceback": [
      "\u001b[1;31m---------------------------------------------------------------------------\u001b[0m",
      "\u001b[1;31mOverflowError\u001b[0m                             Traceback (most recent call last)",
      "\u001b[1;32m~\\AppData\\Local\\Temp/ipykernel_10716/1145367248.py\u001b[0m in \u001b[0;36m<module>\u001b[1;34m\u001b[0m\n\u001b[0;32m      3\u001b[0m \u001b[0mmdic_test\u001b[0m \u001b[1;33m=\u001b[0m \u001b[1;33m{\u001b[0m\u001b[1;34m\"data\"\u001b[0m\u001b[1;33m:\u001b[0m \u001b[0marr_mix_test\u001b[0m\u001b[1;33m}\u001b[0m\u001b[1;33m\u001b[0m\u001b[1;33m\u001b[0m\u001b[0m\n\u001b[0;32m      4\u001b[0m \u001b[1;33m\u001b[0m\u001b[0m\n\u001b[1;32m----> 5\u001b[1;33m \u001b[0msavemat\u001b[0m\u001b[1;33m(\u001b[0m\u001b[1;34m\"hsi_water_train.mat\"\u001b[0m\u001b[1;33m,\u001b[0m \u001b[0mmdic_train\u001b[0m\u001b[1;33m)\u001b[0m\u001b[1;33m\u001b[0m\u001b[1;33m\u001b[0m\u001b[0m\n\u001b[0m\u001b[0;32m      6\u001b[0m \u001b[0msavemat\u001b[0m\u001b[1;33m(\u001b[0m\u001b[1;34m\"hsi_water_test.mat\"\u001b[0m\u001b[1;33m,\u001b[0m \u001b[0mmdic_test\u001b[0m\u001b[1;33m)\u001b[0m\u001b[1;33m\u001b[0m\u001b[1;33m\u001b[0m\u001b[0m\n",
      "\u001b[1;32m~\\AppData\\Local\\Programs\\Python\\Python39\\lib\\site-packages\\scipy\\io\\matlab\\mio.py\u001b[0m in \u001b[0;36msavemat\u001b[1;34m(file_name, mdict, appendmat, format, long_field_names, do_compression, oned_as)\u001b[0m\n\u001b[0;32m    296\u001b[0m         \u001b[1;32melse\u001b[0m\u001b[1;33m:\u001b[0m\u001b[1;33m\u001b[0m\u001b[1;33m\u001b[0m\u001b[0m\n\u001b[0;32m    297\u001b[0m             \u001b[1;32mraise\u001b[0m \u001b[0mValueError\u001b[0m\u001b[1;33m(\u001b[0m\u001b[1;34m\"Format should be '4' or '5'\"\u001b[0m\u001b[1;33m)\u001b[0m\u001b[1;33m\u001b[0m\u001b[1;33m\u001b[0m\u001b[0m\n\u001b[1;32m--> 298\u001b[1;33m         \u001b[0mMW\u001b[0m\u001b[1;33m.\u001b[0m\u001b[0mput_variables\u001b[0m\u001b[1;33m(\u001b[0m\u001b[0mmdict\u001b[0m\u001b[1;33m)\u001b[0m\u001b[1;33m\u001b[0m\u001b[1;33m\u001b[0m\u001b[0m\n\u001b[0m\u001b[0;32m    299\u001b[0m \u001b[1;33m\u001b[0m\u001b[0m\n\u001b[0;32m    300\u001b[0m \u001b[1;33m\u001b[0m\u001b[0m\n",
      "\u001b[1;32m~\\AppData\\Local\\Programs\\Python\\Python39\\lib\\site-packages\\scipy\\io\\matlab\\mio5.py\u001b[0m in \u001b[0;36mput_variables\u001b[1;34m(self, mdict, write_header)\u001b[0m\n\u001b[0;32m    890\u001b[0m                 \u001b[0mself\u001b[0m\u001b[1;33m.\u001b[0m\u001b[0mfile_stream\u001b[0m\u001b[1;33m.\u001b[0m\u001b[0mwrite\u001b[0m\u001b[1;33m(\u001b[0m\u001b[0mout_str\u001b[0m\u001b[1;33m)\u001b[0m\u001b[1;33m\u001b[0m\u001b[1;33m\u001b[0m\u001b[0m\n\u001b[0;32m    891\u001b[0m             \u001b[1;32melse\u001b[0m\u001b[1;33m:\u001b[0m  \u001b[1;31m# not compressing\u001b[0m\u001b[1;33m\u001b[0m\u001b[1;33m\u001b[0m\u001b[0m\n\u001b[1;32m--> 892\u001b[1;33m                 \u001b[0mself\u001b[0m\u001b[1;33m.\u001b[0m\u001b[0m_matrix_writer\u001b[0m\u001b[1;33m.\u001b[0m\u001b[0mwrite_top\u001b[0m\u001b[1;33m(\u001b[0m\u001b[0mvar\u001b[0m\u001b[1;33m,\u001b[0m \u001b[0mname\u001b[0m\u001b[1;33m.\u001b[0m\u001b[0mencode\u001b[0m\u001b[1;33m(\u001b[0m\u001b[1;34m'latin1'\u001b[0m\u001b[1;33m)\u001b[0m\u001b[1;33m,\u001b[0m \u001b[0mis_global\u001b[0m\u001b[1;33m)\u001b[0m\u001b[1;33m\u001b[0m\u001b[1;33m\u001b[0m\u001b[0m\n\u001b[0m",
      "\u001b[1;32m~\\AppData\\Local\\Programs\\Python\\Python39\\lib\\site-packages\\scipy\\io\\matlab\\mio5.py\u001b[0m in \u001b[0;36mwrite_top\u001b[1;34m(self, arr, name, is_global)\u001b[0m\n\u001b[0;32m    631\u001b[0m         \u001b[0mself\u001b[0m\u001b[1;33m.\u001b[0m\u001b[0m_var_name\u001b[0m \u001b[1;33m=\u001b[0m \u001b[0mname\u001b[0m\u001b[1;33m\u001b[0m\u001b[1;33m\u001b[0m\u001b[0m\n\u001b[0;32m    632\u001b[0m         \u001b[1;31m# write the header and data\u001b[0m\u001b[1;33m\u001b[0m\u001b[1;33m\u001b[0m\u001b[0m\n\u001b[1;32m--> 633\u001b[1;33m         \u001b[0mself\u001b[0m\u001b[1;33m.\u001b[0m\u001b[0mwrite\u001b[0m\u001b[1;33m(\u001b[0m\u001b[0marr\u001b[0m\u001b[1;33m)\u001b[0m\u001b[1;33m\u001b[0m\u001b[1;33m\u001b[0m\u001b[0m\n\u001b[0m\u001b[0;32m    634\u001b[0m \u001b[1;33m\u001b[0m\u001b[0m\n\u001b[0;32m    635\u001b[0m     \u001b[1;32mdef\u001b[0m \u001b[0mwrite\u001b[0m\u001b[1;33m(\u001b[0m\u001b[0mself\u001b[0m\u001b[1;33m,\u001b[0m \u001b[0marr\u001b[0m\u001b[1;33m)\u001b[0m\u001b[1;33m:\u001b[0m\u001b[1;33m\u001b[0m\u001b[1;33m\u001b[0m\u001b[0m\n",
      "\u001b[1;32m~\\AppData\\Local\\Programs\\Python\\Python39\\lib\\site-packages\\scipy\\io\\matlab\\mio5.py\u001b[0m in \u001b[0;36mwrite\u001b[1;34m(self, arr)\u001b[0m\n\u001b[0;32m    670\u001b[0m             \u001b[0mself\u001b[0m\u001b[1;33m.\u001b[0m\u001b[0mwrite_char\u001b[0m\u001b[1;33m(\u001b[0m\u001b[0mnarr\u001b[0m\u001b[1;33m,\u001b[0m \u001b[0mcodec\u001b[0m\u001b[1;33m)\u001b[0m\u001b[1;33m\u001b[0m\u001b[1;33m\u001b[0m\u001b[0m\n\u001b[0;32m    671\u001b[0m         \u001b[1;32melse\u001b[0m\u001b[1;33m:\u001b[0m\u001b[1;33m\u001b[0m\u001b[1;33m\u001b[0m\u001b[0m\n\u001b[1;32m--> 672\u001b[1;33m             \u001b[0mself\u001b[0m\u001b[1;33m.\u001b[0m\u001b[0mwrite_numeric\u001b[0m\u001b[1;33m(\u001b[0m\u001b[0mnarr\u001b[0m\u001b[1;33m)\u001b[0m\u001b[1;33m\u001b[0m\u001b[1;33m\u001b[0m\u001b[0m\n\u001b[0m\u001b[0;32m    673\u001b[0m         \u001b[0mself\u001b[0m\u001b[1;33m.\u001b[0m\u001b[0mupdate_matrix_tag\u001b[0m\u001b[1;33m(\u001b[0m\u001b[0mmat_tag_pos\u001b[0m\u001b[1;33m)\u001b[0m\u001b[1;33m\u001b[0m\u001b[1;33m\u001b[0m\u001b[0m\n\u001b[0;32m    674\u001b[0m \u001b[1;33m\u001b[0m\u001b[0m\n",
      "\u001b[1;32m~\\AppData\\Local\\Programs\\Python\\Python39\\lib\\site-packages\\scipy\\io\\matlab\\mio5.py\u001b[0m in \u001b[0;36mwrite_numeric\u001b[1;34m(self, arr)\u001b[0m\n\u001b[0;32m    696\u001b[0m             \u001b[0mself\u001b[0m\u001b[1;33m.\u001b[0m\u001b[0mwrite_element\u001b[0m\u001b[1;33m(\u001b[0m\u001b[0marr\u001b[0m\u001b[1;33m.\u001b[0m\u001b[0mimag\u001b[0m\u001b[1;33m)\u001b[0m\u001b[1;33m\u001b[0m\u001b[1;33m\u001b[0m\u001b[0m\n\u001b[0;32m    697\u001b[0m         \u001b[1;32melse\u001b[0m\u001b[1;33m:\u001b[0m\u001b[1;33m\u001b[0m\u001b[1;33m\u001b[0m\u001b[0m\n\u001b[1;32m--> 698\u001b[1;33m             \u001b[0mself\u001b[0m\u001b[1;33m.\u001b[0m\u001b[0mwrite_element\u001b[0m\u001b[1;33m(\u001b[0m\u001b[0marr\u001b[0m\u001b[1;33m)\u001b[0m\u001b[1;33m\u001b[0m\u001b[1;33m\u001b[0m\u001b[0m\n\u001b[0m\u001b[0;32m    699\u001b[0m \u001b[1;33m\u001b[0m\u001b[0m\n\u001b[0;32m    700\u001b[0m     \u001b[1;32mdef\u001b[0m \u001b[0mwrite_char\u001b[0m\u001b[1;33m(\u001b[0m\u001b[0mself\u001b[0m\u001b[1;33m,\u001b[0m \u001b[0marr\u001b[0m\u001b[1;33m,\u001b[0m \u001b[0mcodec\u001b[0m\u001b[1;33m=\u001b[0m\u001b[1;34m'ascii'\u001b[0m\u001b[1;33m)\u001b[0m\u001b[1;33m:\u001b[0m\u001b[1;33m\u001b[0m\u001b[1;33m\u001b[0m\u001b[0m\n",
      "\u001b[1;32m~\\AppData\\Local\\Programs\\Python\\Python39\\lib\\site-packages\\scipy\\io\\matlab\\mio5.py\u001b[0m in \u001b[0;36mwrite_element\u001b[1;34m(self, arr, mdtype)\u001b[0m\n\u001b[0;32m    537\u001b[0m             \u001b[0mself\u001b[0m\u001b[1;33m.\u001b[0m\u001b[0mwrite_smalldata_element\u001b[0m\u001b[1;33m(\u001b[0m\u001b[0marr\u001b[0m\u001b[1;33m,\u001b[0m \u001b[0mmdtype\u001b[0m\u001b[1;33m,\u001b[0m \u001b[0mbyte_count\u001b[0m\u001b[1;33m)\u001b[0m\u001b[1;33m\u001b[0m\u001b[1;33m\u001b[0m\u001b[0m\n\u001b[0;32m    538\u001b[0m         \u001b[1;32melse\u001b[0m\u001b[1;33m:\u001b[0m\u001b[1;33m\u001b[0m\u001b[1;33m\u001b[0m\u001b[0m\n\u001b[1;32m--> 539\u001b[1;33m             \u001b[0mself\u001b[0m\u001b[1;33m.\u001b[0m\u001b[0mwrite_regular_element\u001b[0m\u001b[1;33m(\u001b[0m\u001b[0marr\u001b[0m\u001b[1;33m,\u001b[0m \u001b[0mmdtype\u001b[0m\u001b[1;33m,\u001b[0m \u001b[0mbyte_count\u001b[0m\u001b[1;33m)\u001b[0m\u001b[1;33m\u001b[0m\u001b[1;33m\u001b[0m\u001b[0m\n\u001b[0m\u001b[0;32m    540\u001b[0m \u001b[1;33m\u001b[0m\u001b[0m\n\u001b[0;32m    541\u001b[0m     \u001b[1;32mdef\u001b[0m \u001b[0mwrite_smalldata_element\u001b[0m\u001b[1;33m(\u001b[0m\u001b[0mself\u001b[0m\u001b[1;33m,\u001b[0m \u001b[0marr\u001b[0m\u001b[1;33m,\u001b[0m \u001b[0mmdtype\u001b[0m\u001b[1;33m,\u001b[0m \u001b[0mbyte_count\u001b[0m\u001b[1;33m)\u001b[0m\u001b[1;33m:\u001b[0m\u001b[1;33m\u001b[0m\u001b[1;33m\u001b[0m\u001b[0m\n",
      "\u001b[1;32m~\\AppData\\Local\\Programs\\Python\\Python39\\lib\\site-packages\\scipy\\io\\matlab\\mio5.py\u001b[0m in \u001b[0;36mwrite_regular_element\u001b[1;34m(self, arr, mdtype, byte_count)\u001b[0m\n\u001b[0;32m    551\u001b[0m         \u001b[0mtag\u001b[0m \u001b[1;33m=\u001b[0m \u001b[0mnp\u001b[0m\u001b[1;33m.\u001b[0m\u001b[0mzeros\u001b[0m\u001b[1;33m(\u001b[0m\u001b[1;33m(\u001b[0m\u001b[1;33m)\u001b[0m\u001b[1;33m,\u001b[0m \u001b[0mNDT_TAG_FULL\u001b[0m\u001b[1;33m)\u001b[0m\u001b[1;33m\u001b[0m\u001b[1;33m\u001b[0m\u001b[0m\n\u001b[0;32m    552\u001b[0m         \u001b[0mtag\u001b[0m\u001b[1;33m[\u001b[0m\u001b[1;34m'mdtype'\u001b[0m\u001b[1;33m]\u001b[0m \u001b[1;33m=\u001b[0m \u001b[0mmdtype\u001b[0m\u001b[1;33m\u001b[0m\u001b[1;33m\u001b[0m\u001b[0m\n\u001b[1;32m--> 553\u001b[1;33m         \u001b[0mtag\u001b[0m\u001b[1;33m[\u001b[0m\u001b[1;34m'byte_count'\u001b[0m\u001b[1;33m]\u001b[0m \u001b[1;33m=\u001b[0m \u001b[0mbyte_count\u001b[0m\u001b[1;33m\u001b[0m\u001b[1;33m\u001b[0m\u001b[0m\n\u001b[0m\u001b[0;32m    554\u001b[0m         \u001b[0mself\u001b[0m\u001b[1;33m.\u001b[0m\u001b[0mwrite_bytes\u001b[0m\u001b[1;33m(\u001b[0m\u001b[0mtag\u001b[0m\u001b[1;33m)\u001b[0m\u001b[1;33m\u001b[0m\u001b[1;33m\u001b[0m\u001b[0m\n\u001b[0;32m    555\u001b[0m         \u001b[0mself\u001b[0m\u001b[1;33m.\u001b[0m\u001b[0mwrite_bytes\u001b[0m\u001b[1;33m(\u001b[0m\u001b[0marr\u001b[0m\u001b[1;33m)\u001b[0m\u001b[1;33m\u001b[0m\u001b[1;33m\u001b[0m\u001b[0m\n",
      "\u001b[1;31mOverflowError\u001b[0m: Python int too large to convert to C long"
     ]
    }
   ],
   "source": [
    "from scipy.io import savemat\n",
    "mdic_train = {\"data\": arr_mix_train}\n",
    "mdic_test = {\"data\": arr_mix_test}\n",
    "\n",
    "savemat(\"hsi_water_train.mat\", mdic_train)\n",
    "savemat(\"hsi_water_test.mat\", mdic_test)"
   ]
  },
  {
   "cell_type": "markdown",
   "metadata": {},
   "source": [
    "## Groundtruth"
   ]
  },
  {
   "cell_type": "code",
   "execution_count": 19,
   "metadata": {},
   "outputs": [
    {
     "name": "stdout",
     "output_type": "stream",
     "text": [
      "Datasets/LabeledImg\\label039.png\n",
      "(512, 512, 3)\n",
      "Datasets/LabeledImg\\label028.png\n",
      "(512, 1024, 3)\n",
      "Datasets/LabeledImg\\label015.png\n",
      "(512, 1536, 3)\n",
      "Datasets/LabeledImg\\label026.png\n",
      "(512, 2048, 3)\n",
      "Datasets/LabeledImg\\label017.png\n",
      "(512, 2560, 3)\n",
      "Datasets/LabeledImg\\label025.png\n",
      "(512, 3072, 3)\n",
      "Datasets/LabeledImg\\label030.png\n",
      "(512, 3584, 3)\n",
      "Datasets/LabeledImg\\label016.png\n",
      "(512, 4096, 3)\n",
      "Datasets/LabeledImg\\label014.png\n",
      "(512, 4608, 3)\n",
      "Datasets/LabeledImg\\label035.png\n",
      "(512, 5120, 3)\n",
      "Datasets/LabeledImg\\label027.png\n",
      "(512, 5632, 3)\n",
      "Datasets/LabeledImg\\label011.png\n",
      "(512, 6144, 3)\n",
      "Datasets/LabeledImg\\label036.png\n",
      "(512, 6656, 3)\n",
      "Datasets/LabeledImg\\label032.png\n",
      "(512, 7168, 3)\n",
      "Datasets/LabeledImg\\label007.png\n",
      "(512, 7680, 3)\n",
      "Datasets/LabeledImg\\label018.png\n",
      "(512, 8192, 3)\n",
      "Datasets/LabeledImg\\label033.png\n",
      "(512, 8704, 3)\n",
      "Datasets/LabeledImg\\label006.png\n",
      "(512, 9216, 3)\n",
      "Datasets/LabeledImg\\label021.png\n",
      "(512, 9728, 3)\n",
      "Datasets/LabeledImg\\label029.png\n",
      "(512, 10240, 3)\n",
      "Datasets/LabeledImg\\label019.png\n",
      "(512, 10752, 3)\n",
      "Datasets/LabeledImg\\label038.png\n",
      "(512, 11264, 3)\n",
      "Datasets/LabeledImg\\label024.png\n",
      "(512, 11776, 3)\n",
      "Datasets/LabeledImg\\label020.png\n",
      "(512, 12288, 3)\n",
      "Datasets/LabeledImg\\label009.png\n",
      "(512, 12800, 3)\n",
      "Datasets/LabeledImg\\label003.png\n",
      "(512, 13312, 3)\n",
      "Datasets/LabeledImg\\label010.png\n",
      "(512, 13824, 3)\n",
      "Datasets/LabeledImg\\label005.png\n",
      "(512, 14336, 3)\n",
      "Datasets/LabeledImg\\label034.png\n",
      "(512, 14848, 3)\n",
      "Datasets/LabeledImg\\label012.png\n",
      "(512, 15360, 3)\n",
      "Datasets/LabeledImg\\label013.png\n",
      "(512, 15872, 3)\n",
      "Datasets/LabeledImg\\label022.png\n",
      "(512, 16384, 3)\n",
      "Datasets/LabeledImg\\label023.png\n",
      "(512, 512, 3)\n",
      "Datasets/LabeledImg\\label037.png\n",
      "(512, 1024, 3)\n",
      "Datasets/LabeledImg\\label031.png\n",
      "(512, 1536, 3)\n"
     ]
    }
   ],
   "source": [
    "import numpy as np\n",
    "import spectral\n",
    "from PIL import Image\n",
    "import matplotlib.pyplot as plt\n",
    "import os\n",
    "import glob\n",
    "\n",
    "\n",
    "label_folder = 'Datasets/WATER_HSI/LabeledImg'\n",
    "max_train = 32\n",
    "gt_mix_train = 0\n",
    "gt_mix_test = 0\n",
    "i = 0\n",
    "for file in labels:\n",
    "    if file.endswith('.png'):\n",
    "        #full_label_path = os.path.join(label_folder, file)\n",
    "        gt = np.asarray(Image.open(file))\n",
    "        print(file)\n",
    "        if i == 0:\n",
    "            gt_mix_train = gt\n",
    "            print(gt_mix_train.shape)\n",
    "        elif i == max_train:\n",
    "            gt_mix_test = gt\n",
    "            print(gt_mix_test.shape)    \n",
    "        elif i > max_train:\n",
    "            gt_mix_test = np.concatenate((gt_mix_test, gt), axis = 1)\n",
    "            print(gt_mix_test.shape)    \n",
    "\n",
    "        else:\n",
    "            gt_mix_train = np.concatenate((gt_mix_train, gt), axis = 1)\n",
    "            print(gt_mix_train.shape)    \n",
    "\n",
    "        i += 1"
   ]
  },
  {
   "cell_type": "code",
   "execution_count": 21,
   "metadata": {},
   "outputs": [
    {
     "name": "stdout",
     "output_type": "stream",
     "text": [
      "(512, 16384, 3)\n",
      "(512, 1536, 3)\n"
     ]
    },
    {
     "data": {
      "text/plain": [
       "<matplotlib.image.AxesImage at 0x13d49b6b100>"
      ]
     },
     "execution_count": 21,
     "metadata": {},
     "output_type": "execute_result"
    },
    {
     "data": {
      "image/png": "[encoded data removed]",
      "text/plain": [
       "<Figure size 432x288 with 1 Axes>"
      ]
     },
     "metadata": {
      "needs_background": "light"
     },
     "output_type": "display_data"
    }
   ],
   "source": [
    "print(gt_mix_train.shape)\n",
    "print(gt_mix_test.shape)\n",
    "plt.imshow(gt_mix_test)"
   ]
  },
  {
   "cell_type": "code",
   "execution_count": 23,
   "metadata": {},
   "outputs": [],
   "source": [
    "from PIL import Image\n",
    "\n",
    "im_train = Image.fromarray(gt_mix_train)\n",
    "im_test = Image.fromarray(gt_mix_test)\n",
    "im_train.save('hsi_water_train_gt.png')\n",
    "im_test.save('hsi_water_test_gt.png')"
   ]
  }
 ],
 "metadata": {
  "interpreter": {
   "hash": "d2f780d3fa0f233da220727534c26375caac5692cb408a3c2164f85e81e52cd5"
  },
  "kernelspec": {
   "display_name": "Python 3.9.7 64-bit",
   "language": "python",
   "name": "python3"
  },
  "language_info": {
   "codemirror_mode": {
    "name": "ipython",
    "version": 3
   },
   "file_extension": ".py",
   "mimetype": "text/x-python",
   "name": "python",
   "nbconvert_exporter": "python",
   "pygments_lexer": "ipython3",
   "version": "3.9.7"
  },
  "orig_nbformat": 4
 },
 "nbformat": 4,
 "nbformat_minor": 2
}
