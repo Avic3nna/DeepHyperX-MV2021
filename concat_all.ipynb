{
 "cells": [
  {
   "cell_type": "markdown",
   "metadata": {},
   "source": [
    "# Concat HSI and GT"
   ]
  },
  {
   "cell_type": "code",
   "execution_count": 1,
   "metadata": {},
   "outputs": [],
   "source": [
    "#https://colab.research.google.com/drive/1Lstx55MxHT8bpXlgnaXYloVCmagE_xC7?usp=sharing#scrollTo=-T6nwPzcIone\n",
    "\n",
    "#getting the data from 1 pixel in a single image\n",
    "import numpy as np\n",
    "import spectral\n",
    "from PIL import Image\n",
    "import matplotlib.pyplot as plt\n",
    "\n",
    "hs_data1 = spectral.open_image('Datasets/WATER_HSI/REFLECTANCE_2021-09-12_039.hdr')\n",
    "\n",
    "hs_data2 = spectral.open_image('Datasets/WATER_HSI/REFLECTANCE_2021-09-12_003.hdr')\n",
    "\n",
    "gt1 = Image.open('Datasets/WATER_HSI/LabeledImg/label35.png')\n",
    "gt2 = Image.open('Datasets/WATER_HSI/LabeledImg/label2.png')"
   ]
  },
  {
   "cell_type": "code",
   "execution_count": 2,
   "metadata": {},
   "outputs": [],
   "source": [
    "arr1 = np.array(hs_data1.load())\n",
    "arr2 = np.array(hs_data2.load())\n"
   ]
  },
  {
   "cell_type": "code",
   "execution_count": 4,
   "metadata": {},
   "outputs": [
    {
     "data": {
      "text/plain": [
       "(512, 512, 204)"
      ]
     },
     "execution_count": 4,
     "metadata": {},
     "output_type": "execute_result"
    }
   ],
   "source": [
    "arr1.shape"
   ]
  },
  {
   "cell_type": "code",
   "execution_count": 5,
   "metadata": {},
   "outputs": [
    {
     "data": {
      "text/plain": [
       "(512, 1024, 204)"
      ]
     },
     "execution_count": 5,
     "metadata": {},
     "output_type": "execute_result"
    }
   ],
   "source": [
    "arr_mix = np.concatenate((arr1, arr2), axis = 1)\n",
    "\n",
    "arr_mix.shape"
   ]
  },
  {
   "cell_type": "code",
   "execution_count": 7,
   "metadata": {},
   "outputs": [
    {
     "data": {
      "text/plain": [
       "(512, 1024, 3)"
      ]
     },
     "execution_count": 7,
     "metadata": {},
     "output_type": "execute_result"
    }
   ],
   "source": [
    "gt1_array = np.asarray(gt1)\n",
    "gt2_array = np.asarray(gt2)\n",
    "\n",
    "gt_mix = np.concatenate((gt1_array, gt2_array), axis = 1)\n",
    "gt_mix.shape"
   ]
  },
  {
   "cell_type": "code",
   "execution_count": 10,
   "metadata": {},
   "outputs": [
    {
     "data": {
      "text/plain": [
       "<matplotlib.image.AxesImage at 0x24d9bede370>"
      ]
     },
     "execution_count": 10,
     "metadata": {},
     "output_type": "execute_result"
    },
    {
     "data": {
      "image/png": "[encoded data removed]",
      "text/plain": [
       "<Figure size 432x288 with 1 Axes>"
      ]
     },
     "metadata": {
      "needs_background": "light"
     },
     "output_type": "display_data"
    }
   ],
   "source": [
    "import matplotlib.pyplot as plt\n",
    "\n",
    "plt.imshow(gt_mix)"
   ]
  },
  {
   "cell_type": "markdown",
   "metadata": {},
   "source": [
    "# Scaleable"
   ]
  },
  {
   "cell_type": "markdown",
   "metadata": {},
   "source": [
    "## Shuffle img"
   ]
  },
  {
   "cell_type": "code",
   "execution_count": 9,
   "metadata": {},
   "outputs": [
    {
     "name": "stdout",
     "output_type": "stream",
     "text": [
      "c:\\Users\\omare\\Desktop\\DeepHyperX-MV2021\n",
      "['Datasets/NewLabels\\\\newlabel003.png', 'Datasets/NewLabels\\\\newlabel005.png', 'Datasets/NewLabels\\\\newlabel006.png', 'Datasets/NewLabels\\\\newlabel007.png']\n",
      "['Datasets/WATER_HSI\\\\REFLECTANCE_2021-09-12_003.hdr', 'Datasets/WATER_HSI\\\\REFLECTANCE_2021-09-12_005.hdr', 'Datasets/WATER_HSI\\\\REFLECTANCE_2021-09-12_006.hdr', 'Datasets/WATER_HSI\\\\REFLECTANCE_2021-09-12_007.hdr']\n",
      "['Datasets/NewLabels\\\\newlabel039.png', 'Datasets/NewLabels\\\\newlabel028.png', 'Datasets/NewLabels\\\\newlabel015.png', 'Datasets/NewLabels\\\\newlabel026.png']\n",
      "['Datasets/WATER_HSI\\\\REFLECTANCE_2021-09-12_039.hdr', 'Datasets/WATER_HSI\\\\REFLECTANCE_2021-09-12_028.hdr', 'Datasets/WATER_HSI\\\\REFLECTANCE_2021-09-12_015.hdr', 'Datasets/WATER_HSI\\\\REFLECTANCE_2021-09-12_026.hdr']\n"
     ]
    }
   ],
   "source": [
    "import random\n",
    "import os\n",
    "import glob\n",
    "\n",
    "print(os.getcwd())\n",
    "label_folder = 'Datasets/NewLabels/*.png'\n",
    "hsi_folder = 'Datasets/WATER_HSI/*.hdr'\n",
    "\n",
    "labels = (glob.glob(label_folder))\n",
    "train = (glob.glob(hsi_folder))\n",
    "print(labels[0:4])\n",
    "print(train[0:4])\n",
    "\n",
    "labels = random.Random(1337).sample(labels, len(labels))\n",
    "train = random.Random(1337).sample(train, len(train))\n",
    "\n",
    "print(labels[0:4])\n",
    "print(train[0:4])"
   ]
  },
  {
   "cell_type": "markdown",
   "metadata": {},
   "source": [
    "## HSI"
   ]
  },
  {
   "cell_type": "code",
   "execution_count": 2,
   "metadata": {},
   "outputs": [
    {
     "name": "stdout",
     "output_type": "stream",
     "text": [
      "Datasets/WATER_HSI\\REFLECTANCE_2021-09-12_039.hdr\n",
      "(512, 512, 204)\n",
      "Datasets/WATER_HSI\\REFLECTANCE_2021-09-12_028.hdr\n",
      "(512, 1024, 204)\n",
      "Datasets/WATER_HSI\\REFLECTANCE_2021-09-12_015.hdr\n",
      "(512, 1536, 204)\n",
      "Datasets/WATER_HSI\\REFLECTANCE_2021-09-12_026.hdr\n",
      "(512, 2048, 204)\n",
      "Datasets/WATER_HSI\\REFLECTANCE_2021-09-12_017.hdr\n",
      "(512, 2560, 204)\n",
      "Datasets/WATER_HSI\\REFLECTANCE_2021-09-12_025.hdr\n",
      "(512, 3072, 204)\n",
      "Datasets/WATER_HSI\\REFLECTANCE_2021-09-12_030.hdr\n",
      "(512, 3584, 204)\n",
      "Datasets/WATER_HSI\\REFLECTANCE_2021-09-12_016.hdr\n",
      "(512, 4096, 204)\n",
      "Datasets/WATER_HSI\\REFLECTANCE_2021-09-12_014.hdr\n",
      "(512, 4608, 204)\n",
      "Datasets/WATER_HSI\\REFLECTANCE_2021-09-12_035.hdr\n",
      "(512, 5120, 204)\n",
      "Datasets/WATER_HSI\\REFLECTANCE_2021-09-12_027.hdr\n",
      "(512, 5632, 204)\n",
      "Datasets/WATER_HSI\\REFLECTANCE_2021-09-12_011.hdr\n",
      "(512, 6144, 204)\n",
      "Datasets/WATER_HSI\\REFLECTANCE_2021-09-12_036.hdr\n",
      "(512, 6656, 204)\n",
      "Datasets/WATER_HSI\\REFLECTANCE_2021-09-12_032.hdr\n",
      "(512, 7168, 204)\n",
      "Datasets/WATER_HSI\\REFLECTANCE_2021-09-12_007.hdr\n",
      "(512, 7680, 204)\n",
      "Datasets/WATER_HSI\\REFLECTANCE_2021-09-12_018.hdr\n",
      "(512, 8192, 204)\n",
      "Datasets/WATER_HSI\\REFLECTANCE_2021-09-12_033.hdr\n",
      "(512, 8704, 204)\n",
      "Datasets/WATER_HSI\\REFLECTANCE_2021-09-12_006.hdr\n",
      "(512, 9216, 204)\n",
      "Datasets/WATER_HSI\\REFLECTANCE_2021-09-12_021.hdr\n",
      "(512, 9728, 204)\n",
      "Datasets/WATER_HSI\\REFLECTANCE_2021-09-12_029.hdr\n",
      "(512, 10240, 204)\n",
      "Datasets/WATER_HSI\\REFLECTANCE_2021-09-12_019.hdr\n",
      "(512, 10752, 204)\n",
      "Datasets/WATER_HSI\\REFLECTANCE_2021-09-12_038.hdr\n",
      "(512, 11264, 204)\n",
      "Datasets/WATER_HSI\\REFLECTANCE_2021-09-12_024.hdr\n",
      "(512, 11776, 204)\n",
      "Datasets/WATER_HSI\\REFLECTANCE_2021-09-12_020.hdr\n",
      "(512, 12288, 204)\n",
      "Datasets/WATER_HSI\\REFLECTANCE_2021-09-12_009.hdr\n",
      "(512, 12800, 204)\n",
      "Datasets/WATER_HSI\\REFLECTANCE_2021-09-12_003.hdr\n",
      "(512, 13312, 204)\n",
      "Datasets/WATER_HSI\\REFLECTANCE_2021-09-12_010.hdr\n",
      "(512, 13824, 204)\n",
      "Datasets/WATER_HSI\\REFLECTANCE_2021-09-12_005.hdr\n",
      "(512, 14336, 204)\n",
      "Datasets/WATER_HSI\\REFLECTANCE_2021-09-12_034.hdr\n",
      "(512, 14848, 204)\n",
      "Datasets/WATER_HSI\\REFLECTANCE_2021-09-12_012.hdr\n",
      "(512, 15360, 204)\n",
      "Datasets/WATER_HSI\\REFLECTANCE_2021-09-12_013.hdr\n",
      "(512, 512, 204)\n",
      "Datasets/WATER_HSI\\REFLECTANCE_2021-09-12_022.hdr\n",
      "(512, 1024, 204)\n",
      "Datasets/WATER_HSI\\REFLECTANCE_2021-09-12_023.hdr\n",
      "(512, 1536, 204)\n",
      "Datasets/WATER_HSI\\REFLECTANCE_2021-09-12_037.hdr\n",
      "(512, 2048, 204)\n",
      "Datasets/WATER_HSI\\REFLECTANCE_2021-09-12_031.hdr\n",
      "(512, 2560, 204)\n"
     ]
    }
   ],
   "source": [
    "import numpy as np\n",
    "import spectral\n",
    "from PIL import Image\n",
    "import matplotlib.pyplot as plt\n",
    "import os\n",
    "\n",
    "hsi_folder = 'Datasets/WATER_HSI/'\n",
    "max_train = 30\n",
    "arr_mix_train = 0\n",
    "arr_mix_test = 0\n",
    "i = 0\n",
    "for file in train:\n",
    "    if file.endswith('.hdr'):\n",
    "        #full_hsi_path = os.path.join(hsi_folder, file)\n",
    "        hs_data = spectral.open_image(file)\n",
    "        arr = np.array(hs_data.load(), dtype= np.float64) #python int too long to convert to c long\n",
    "        print(file)\n",
    "        if i == 0:\n",
    "            arr_mix_train = arr\n",
    "            print(arr_mix_train.shape)\n",
    "        elif i == max_train:\n",
    "            arr_mix_test = arr\n",
    "            print(arr_mix_test.shape) \n",
    "        elif i > max_train:\n",
    "            arr_mix_test = np.concatenate((arr_mix_test, arr), axis = 1)\n",
    "            print(arr_mix_test.shape)              \n",
    "        else:\n",
    "            arr_mix_train = np.concatenate((arr_mix_train, arr), axis = 1) \n",
    "            print(arr_mix_train.shape)\n",
    "        \n",
    "        i += 1\n",
    "        "
   ]
  },
  {
   "cell_type": "markdown",
   "metadata": {},
   "source": [
    "## PCA on multiple images merged"
   ]
  },
  {
   "cell_type": "code",
   "execution_count": 3,
   "metadata": {},
   "outputs": [],
   "source": [
    "from sklearn.decomposition import PCA\n",
    "\n",
    "pc_30 = PCA(n_components=30)\n",
    "#pc_095 = PCA(n_components=0.99)"
   ]
  },
  {
   "cell_type": "markdown",
   "metadata": {},
   "source": [
    "### Reshape"
   ]
  },
  {
   "cell_type": "code",
   "execution_count": 4,
   "metadata": {},
   "outputs": [],
   "source": [
    "train_shape = arr_mix_train.shape\n",
    "test_shape = arr_mix_test.shape"
   ]
  },
  {
   "cell_type": "code",
   "execution_count": 5,
   "metadata": {},
   "outputs": [],
   "source": [
    "arr_mix_train = np.reshape(arr_mix_train, (-1, train_shape[2]))\n",
    "arr_mix_test = np.reshape(arr_mix_test, (-1, test_shape[2]))\n",
    "\n",
    "arr_mix_train = pc_30.fit_transform(arr_mix_train)\n",
    "arr_mix_test = pc_30.transform(arr_mix_test)\n",
    "arr_mix_train = np.reshape(arr_mix_train, (train_shape[0], train_shape[1], -1))\n",
    "arr_mix_test = np.reshape(arr_mix_test, (test_shape[0], test_shape[1], -1))"
   ]
  },
  {
   "cell_type": "code",
   "execution_count": 6,
   "metadata": {},
   "outputs": [
    {
     "name": "stdout",
     "output_type": "stream",
     "text": [
      "(512, 15360, 30)\n",
      "(512, 2560, 30)\n"
     ]
    }
   ],
   "source": [
    "print(arr_mix_train.shape)\n",
    "print(arr_mix_test.shape)"
   ]
  },
  {
   "cell_type": "code",
   "execution_count": 7,
   "metadata": {},
   "outputs": [],
   "source": [
    "from scipy.io import savemat\n",
    "mdic_train = {\"data\": arr_mix_train}\n",
    "mdic_test = {\"data\": arr_mix_test}\n",
    "\n",
    "savemat(\"hsi_water_train.mat\", mdic_train)\n",
    "savemat(\"hsi_water_test.mat\", mdic_test)"
   ]
  },
  {
   "cell_type": "markdown",
   "metadata": {},
   "source": [
    "## Groundtruth"
   ]
  },
  {
   "cell_type": "code",
   "execution_count": 10,
   "metadata": {},
   "outputs": [
    {
     "name": "stdout",
     "output_type": "stream",
     "text": [
      "Datasets/NewLabels\\newlabel039.png\n",
      "(512, 512, 3)\n",
      "Datasets/NewLabels\\newlabel028.png\n",
      "(512, 1024, 3)\n",
      "Datasets/NewLabels\\newlabel015.png\n",
      "(512, 1536, 3)\n",
      "Datasets/NewLabels\\newlabel026.png\n",
      "(512, 2048, 3)\n",
      "Datasets/NewLabels\\newlabel017.png\n",
      "(512, 2560, 3)\n",
      "Datasets/NewLabels\\newlabel025.png\n",
      "(512, 3072, 3)\n",
      "Datasets/NewLabels\\newlabel030.png\n",
      "(512, 3584, 3)\n",
      "Datasets/NewLabels\\newlabel016.png\n",
      "(512, 4096, 3)\n",
      "Datasets/NewLabels\\newlabel014.png\n",
      "(512, 4608, 3)\n",
      "Datasets/NewLabels\\newlabel035.png\n",
      "(512, 5120, 3)\n",
      "Datasets/NewLabels\\newlabel027.png\n",
      "(512, 5632, 3)\n",
      "Datasets/NewLabels\\newlabel011.png\n",
      "(512, 6144, 3)\n",
      "Datasets/NewLabels\\newlabel036.png\n",
      "(512, 6656, 3)\n",
      "Datasets/NewLabels\\newlabel032.png\n",
      "(512, 7168, 3)\n",
      "Datasets/NewLabels\\newlabel007.png\n",
      "(512, 7680, 3)\n",
      "Datasets/NewLabels\\newlabel018.png\n",
      "(512, 8192, 3)\n",
      "Datasets/NewLabels\\newlabel033.png\n",
      "(512, 8704, 3)\n",
      "Datasets/NewLabels\\newlabel006.png\n",
      "(512, 9216, 3)\n",
      "Datasets/NewLabels\\newlabel021.png\n",
      "(512, 9728, 3)\n",
      "Datasets/NewLabels\\newlabel029.png\n",
      "(512, 10240, 3)\n",
      "Datasets/NewLabels\\newlabel019.png\n",
      "(512, 10752, 3)\n",
      "Datasets/NewLabels\\newlabel038.png\n",
      "(512, 11264, 3)\n",
      "Datasets/NewLabels\\newlabel024.png\n",
      "(512, 11776, 3)\n",
      "Datasets/NewLabels\\newlabel020.png\n",
      "(512, 12288, 3)\n",
      "Datasets/NewLabels\\newlabel009.png\n",
      "(512, 12800, 3)\n",
      "Datasets/NewLabels\\newlabel003.png\n",
      "(512, 13312, 3)\n",
      "Datasets/NewLabels\\newlabel010.png\n",
      "(512, 13824, 3)\n",
      "Datasets/NewLabels\\newlabel005.png\n",
      "(512, 14336, 3)\n",
      "Datasets/NewLabels\\newlabel034.png\n",
      "(512, 14848, 3)\n",
      "Datasets/NewLabels\\newlabel012.png\n",
      "(512, 15360, 3)\n",
      "Datasets/NewLabels\\newlabel013.png\n",
      "(512, 512, 3)\n",
      "Datasets/NewLabels\\newlabel022.png\n",
      "(512, 1024, 3)\n",
      "Datasets/NewLabels\\newlabel023.png\n",
      "(512, 1536, 3)\n",
      "Datasets/NewLabels\\newlabel037.png\n",
      "(512, 2048, 3)\n",
      "Datasets/NewLabels\\newlabel031.png\n",
      "(512, 2560, 3)\n"
     ]
    }
   ],
   "source": [
    "import numpy as np\n",
    "import spectral\n",
    "from PIL import Image\n",
    "import matplotlib.pyplot as plt\n",
    "import os\n",
    "import glob\n",
    "\n",
    "\n",
    "label_folder = 'Datasets/WATER_HSI/NewLabels'\n",
    "max_train = 30\n",
    "gt_mix_train = 0\n",
    "gt_mix_test = 0\n",
    "i = 0\n",
    "for file in labels:\n",
    "    if file.endswith('.png'):\n",
    "        #full_label_path = os.path.join(label_folder, file)\n",
    "        gt = np.asarray(Image.open(file))\n",
    "        print(file)\n",
    "        if i == 0:\n",
    "            gt_mix_train = gt\n",
    "            print(gt_mix_train.shape)\n",
    "        elif i == max_train:\n",
    "            gt_mix_test = gt\n",
    "            print(gt_mix_test.shape)    \n",
    "        elif i > max_train:\n",
    "            gt_mix_test = np.concatenate((gt_mix_test, gt), axis = 1)\n",
    "            print(gt_mix_test.shape)    \n",
    "\n",
    "        else:\n",
    "            gt_mix_train = np.concatenate((gt_mix_train, gt), axis = 1)\n",
    "            print(gt_mix_train.shape)\n",
    "            \n",
    "\n",
    "        i += 1"
   ]
  },
  {
   "cell_type": "code",
   "execution_count": 11,
   "metadata": {},
   "outputs": [
    {
     "name": "stdout",
     "output_type": "stream",
     "text": [
      "(512, 15360, 3)\n",
      "(512, 2560, 3)\n"
     ]
    },
    {
     "data": {
      "text/plain": [
       "<matplotlib.image.AxesImage at 0x2848b6180d0>"
      ]
     },
     "execution_count": 11,
     "metadata": {},
     "output_type": "execute_result"
    },
    {
     "data": {
      "image/png": "[encoded data removed]",
      "text/plain": [
       "<Figure size 432x288 with 1 Axes>"
      ]
     },
     "metadata": {
      "needs_background": "light"
     },
     "output_type": "display_data"
    }
   ],
   "source": [
    "print(gt_mix_train.shape)\n",
    "print(gt_mix_test.shape)\n",
    "plt.imshow(gt_mix_train)"
   ]
  },
  {
   "cell_type": "code",
   "execution_count": 12,
   "metadata": {},
   "outputs": [],
   "source": [
    "from PIL import Image\n",
    "\n",
    "im_train = Image.fromarray(gt_mix_train)\n",
    "im_test = Image.fromarray(gt_mix_test)\n",
    "im_train.save('hsi_water_train_gt.png')\n",
    "im_test.save('hsi_water_test_gt.png')"
   ]
  }
 ],
 "metadata": {
  "interpreter": {
   "hash": "d2f780d3fa0f233da220727534c26375caac5692cb408a3c2164f85e81e52cd5"
  },
  "kernelspec": {
   "display_name": "Python 3.9.7 64-bit",
   "language": "python",
   "name": "python3"
  },
  "language_info": {
   "codemirror_mode": {
    "name": "ipython",
    "version": 3
   },
   "file_extension": ".py",
   "mimetype": "text/x-python",
   "name": "python",
   "nbconvert_exporter": "python",
   "pygments_lexer": "ipython3",
   "version": "3.9.7"
  },
  "orig_nbformat": 4
 },
 "nbformat": 4,
 "nbformat_minor": 2
}
