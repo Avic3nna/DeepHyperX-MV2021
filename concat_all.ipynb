{
 "cells": [
  {
   "cell_type": "markdown",
   "metadata": {},
   "source": [
    "# Concat HSI and GT"
   ]
  },
  {
   "cell_type": "code",
   "execution_count": 1,
   "metadata": {},
   "outputs": [],
   "source": [
    "#https://colab.research.google.com/drive/1Lstx55MxHT8bpXlgnaXYloVCmagE_xC7?usp=sharing#scrollTo=-T6nwPzcIone\n",
    "\n",
    "#getting the data from 1 pixel in a single image\n",
    "import numpy as np\n",
    "import spectral\n",
    "from PIL import Image\n",
    "import matplotlib.pyplot as plt\n",
    "\n",
    "hs_data1 = spectral.open_image('Datasets/WATER_HSI/REFLECTANCE_2021-09-12_039.hdr')\n",
    "\n",
    "hs_data2 = spectral.open_image('Datasets/WATER_HSI/REFLECTANCE_2021-09-12_003.hdr')\n",
    "\n",
    "gt1 = Image.open('Datasets/WATER_HSI/LabeledImg/label35.png')\n",
    "gt2 = Image.open('Datasets/WATER_HSI/LabeledImg/label2.png')"
   ]
  },
  {
   "cell_type": "code",
   "execution_count": 2,
   "metadata": {},
   "outputs": [],
   "source": [
    "arr1 = np.array(hs_data1.load())\n",
    "arr2 = np.array(hs_data2.load())\n"
   ]
  },
  {
   "cell_type": "code",
   "execution_count": 4,
   "metadata": {},
   "outputs": [
    {
     "data": {
      "text/plain": [
       "(512, 512, 204)"
      ]
     },
     "execution_count": 4,
     "metadata": {},
     "output_type": "execute_result"
    }
   ],
   "source": [
    "arr1.shape"
   ]
  },
  {
   "cell_type": "code",
   "execution_count": 5,
   "metadata": {},
   "outputs": [
    {
     "data": {
      "text/plain": [
       "(512, 1024, 204)"
      ]
     },
     "execution_count": 5,
     "metadata": {},
     "output_type": "execute_result"
    }
   ],
   "source": [
    "arr_mix = np.concatenate((arr1, arr2), axis = 1)\n",
    "\n",
    "arr_mix.shape"
   ]
  },
  {
   "cell_type": "code",
   "execution_count": 7,
   "metadata": {},
   "outputs": [
    {
     "data": {
      "text/plain": [
       "(512, 1024, 3)"
      ]
     },
     "execution_count": 7,
     "metadata": {},
     "output_type": "execute_result"
    }
   ],
   "source": [
    "gt1_array = np.asarray(gt1)\n",
    "gt2_array = np.asarray(gt2)\n",
    "\n",
    "gt_mix = np.concatenate((gt1_array, gt2_array), axis = 1)\n",
    "gt_mix.shape"
   ]
  },
  {
   "cell_type": "code",
   "execution_count": 10,
   "metadata": {},
   "outputs": [
    {
     "data": {
      "text/plain": [
       "<matplotlib.image.AxesImage at 0x24d9bede370>"
      ]
     },
     "execution_count": 10,
     "metadata": {},
     "output_type": "execute_result"
    },
    {
     "data": {
      "image/png": "[encoded data removed]",
      "text/plain": [
       "<Figure size 432x288 with 1 Axes>"
      ]
     },
     "metadata": {
      "needs_background": "light"
     },
     "output_type": "display_data"
    }
   ],
   "source": [
    "import matplotlib.pyplot as plt\n",
    "\n",
    "plt.imshow(gt_mix)"
   ]
  },
  {
   "cell_type": "markdown",
   "metadata": {},
   "source": [
    "# Scaleable"
   ]
  },
  {
   "cell_type": "markdown",
   "metadata": {},
   "source": [
    "## HSI"
   ]
  },
  {
   "cell_type": "code",
   "execution_count": 1,
   "metadata": {},
   "outputs": [
    {
     "name": "stdout",
     "output_type": "stream",
     "text": [
      "REFLECTANCE_2021-09-12_003.hdr\n",
      "(512, 512, 204)\n",
      "REFLECTANCE_2021-09-12_005.hdr\n",
      "(512, 1024, 204)\n",
      "REFLECTANCE_2021-09-12_006.hdr\n",
      "(512, 1536, 204)\n"
     ]
    }
   ],
   "source": [
    "import numpy as np\n",
    "import spectral\n",
    "from PIL import Image\n",
    "import matplotlib.pyplot as plt\n",
    "import os\n",
    "\n",
    "hsi_folder = 'Datasets/WATER_HSI/'\n",
    "hsi_hdr_file = 'Datasets/WATER_HSI/*.hdr'\n",
    "arr_mix = 0\n",
    "i = 0\n",
    "for file in os.listdir(hsi_folder):\n",
    "    if file.endswith('.hdr'):\n",
    "        print(file)\n",
    "        full_hsi_path = os.path.join(hsi_folder, file)\n",
    "        hs_data = spectral.open_image(full_hsi_path)\n",
    "        arr = np.array(hs_data.load())\n",
    "        if i == 0:\n",
    "            arr_mix = arr\n",
    "        else:\n",
    "            arr_mix = np.concatenate((arr_mix, arr), axis = 1)    \n",
    "        print(arr_mix.shape)\n",
    "        i += 1\n",
    "        "
   ]
  },
  {
   "cell_type": "code",
   "execution_count": 2,
   "metadata": {},
   "outputs": [
    {
     "data": {
      "text/plain": [
       "(512, 1536, 204)"
      ]
     },
     "execution_count": 2,
     "metadata": {},
     "output_type": "execute_result"
    }
   ],
   "source": [
    "arr_mix.shape"
   ]
  },
  {
   "cell_type": "code",
   "execution_count": 3,
   "metadata": {},
   "outputs": [],
   "source": [
    "from scipy.io import savemat\n",
    "mdic = {\"data\": arr_mix}\n",
    "savemat(\"hsi_water_train.mat\", mdic)"
   ]
  },
  {
   "cell_type": "markdown",
   "metadata": {},
   "source": [
    "## Groundtruth"
   ]
  },
  {
   "cell_type": "code",
   "execution_count": 16,
   "metadata": {},
   "outputs": [
    {
     "name": "stdout",
     "output_type": "stream",
     "text": [
      "(512, 512, 3)\n",
      "(512, 1024, 3)\n",
      "(512, 1536, 3)\n"
     ]
    }
   ],
   "source": [
    "import numpy as np\n",
    "import spectral\n",
    "from PIL import Image\n",
    "import matplotlib.pyplot as plt\n",
    "import os\n",
    "\n",
    "label_folder = 'Datasets/WATER_HSI/LabeledImg'\n",
    "gt_mix = 0\n",
    "i = 0\n",
    "for file in os.listdir(label_folder):\n",
    "    if file.endswith('.png'):\n",
    "        full_label_path = os.path.join(label_folder, file)\n",
    "        gt = np.asarray(Image.open(full_label_path))\n",
    "\n",
    "        if i == 0:\n",
    "            gt_mix = gt\n",
    "        else:\n",
    "            gt_mix = np.concatenate((gt_mix, gt), axis = 1)    \n",
    "        print(gt_mix.shape)\n",
    "        i += 1\n",
    "        if i == 3:\n",
    "            break"
   ]
  },
  {
   "cell_type": "code",
   "execution_count": 17,
   "metadata": {},
   "outputs": [
    {
     "name": "stdout",
     "output_type": "stream",
     "text": [
      "(512, 1536, 3)\n"
     ]
    },
    {
     "data": {
      "text/plain": [
       "<matplotlib.image.AxesImage at 0x2b79dc8f0a0>"
      ]
     },
     "execution_count": 17,
     "metadata": {},
     "output_type": "execute_result"
    },
    {
     "data": {
      "image/png": "[encoded data removed]",
      "text/plain": [
       "<Figure size 432x288 with 1 Axes>"
      ]
     },
     "metadata": {
      "needs_background": "light"
     },
     "output_type": "display_data"
    }
   ],
   "source": [
    "print(gt_mix.shape)\n",
    "plt.imshow(gt_mix)"
   ]
  },
  {
   "cell_type": "code",
   "execution_count": 18,
   "metadata": {},
   "outputs": [],
   "source": [
    "from PIL import Image\n",
    "\n",
    "im = Image.fromarray(gt_mix)\n",
    "im.save('hsi_water_train_gt.png')"
   ]
  }
 ],
 "metadata": {
  "interpreter": {
   "hash": "d2f780d3fa0f233da220727534c26375caac5692cb408a3c2164f85e81e52cd5"
  },
  "kernelspec": {
   "display_name": "Python 3.9.7 64-bit",
   "language": "python",
   "name": "python3"
  },
  "language_info": {
   "codemirror_mode": {
    "name": "ipython",
    "version": 3
   },
   "file_extension": ".py",
   "mimetype": "text/x-python",
   "name": "python",
   "nbconvert_exporter": "python",
   "pygments_lexer": "ipython3",
   "version": "3.9.7"
  },
  "orig_nbformat": 4
 },
 "nbformat": 4,
 "nbformat_minor": 2
}
